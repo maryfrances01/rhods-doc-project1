{
 "cells": [
  {
   "cell_type": "code",
   "execution_count": 1,
   "id": "5be0a4aa-6405-4df0-8aa6-e4594bd6f224",
   "metadata": {},
   "outputs": [
    {
     "name": "stdout",
     "output_type": "stream",
     "text": [
      "Hello world\n"
     ]
    }
   ],
   "source": [
    "print(\"Hello world\")"
   ]
  },
  {
   "cell_type": "code",
   "execution_count": null,
   "id": "c8784ada-76e2-4a89-965e-2d1b93185fde",
   "metadata": {},
   "outputs": [],
   "source": [
    "dfds"
   ]
  },
  {
   "cell_type": "code",
   "execution_count": null,
   "id": "34c550ee-0eea-41ed-b9fd-34aa42b48fe8",
   "metadata": {},
   "outputs": [],
   "source": []
  }
 ],
 "metadata": {
  "kernelspec": {
   "display_name": "Python 3",
   "language": "python",
   "name": "python3"
  },
  "language_info": {
   "codemirror_mode": {
    "name": "ipython",
    "version": 3
   },
   "file_extension": ".py",
   "mimetype": "text/x-python",
   "name": "python",
   "nbconvert_exporter": "python",
   "pygments_lexer": "ipython3",
   "version": "3.8.3"
  }
 },
 "nbformat": 4,
 "nbformat_minor": 5
}
