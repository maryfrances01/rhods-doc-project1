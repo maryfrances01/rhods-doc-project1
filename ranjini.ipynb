{
 "cells": [
  {
   "cell_type": "code",
   "execution_count": null,
   "id": "6b326d28-31b1-4ddd-b04f-b39e2061e072",
   "metadata": {},
   "outputs": [],
   "source": [
    "Testing if this even works. "
   ]
  },
  {
   "cell_type": "code",
   "execution_count": null,
   "id": "c4850a3e-19c5-4f26-b5e5-b61d5dc943b2",
   "metadata": {},
   "outputs": [],
   "source": [
    "inserting a new cell"
   ]
  }
 ],
 "metadata": {
  "kernelspec": {
   "display_name": "Python 3",
   "language": "python",
   "name": "python3"
  },
  "language_info": {
   "codemirror_mode": {
    "name": "ipython",
    "version": 3
   },
   "file_extension": ".py",
   "mimetype": "text/x-python",
   "name": "python",
   "nbconvert_exporter": "python",
   "pygments_lexer": "ipython3",
   "version": "3.8.3"
  }
 },
 "nbformat": 4,
 "nbformat_minor": 5
}
